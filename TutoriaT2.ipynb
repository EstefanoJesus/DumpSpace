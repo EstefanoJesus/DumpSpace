{
  "nbformat": 4,
  "nbformat_minor": 0,
  "metadata": {
    "colab": {
      "provenance": [],
      "authorship_tag": "ABX9TyOQzoqFIzAEU6ChwUTOstNh",
      "include_colab_link": true
    },
    "kernelspec": {
      "name": "python3",
      "display_name": "Python 3"
    },
    "language_info": {
      "name": "python"
    }
  },
  "cells": [
    {
      "cell_type": "markdown",
      "metadata": {
        "id": "view-in-github",
        "colab_type": "text"
      },
      "source": [
        "<a href=\"https://colab.research.google.com/github/EstefanoJesus/DumpSpace/blob/main/TutoriaT2.ipynb\" target=\"_parent\"><img src=\"https://colab.research.google.com/assets/colab-badge.svg\" alt=\"Open In Colab\"/></a>"
      ]
    },
    {
      "cell_type": "markdown",
      "source": [
        "Para acortar el diccionario:"
      ],
      "metadata": {
        "id": "sL3Y78_3EA2I"
      }
    },
    {
      "cell_type": "code",
      "source": [
        "Alumnos = {'Jorge': [['Curso 1', '6.0'], ['Curso 2', '5.6'], ['Curso 3', '4.1'], ['Curso 4', '4.7'], ['Curso 5', '6.1']], 'Amalia': [['Curso 1', '1.6'], ['Curso 2', '4.1'], ['Curso 3', '4.6'], ['Curso 4', '5.3'], ['Curso 5', '6.1']], 'Pedro': [['Curso 1', '3.9'], ['Curso 2', '3.8'], ['Curso 3', '4.8'], ['Curso 4', '6.5'], ['Curso 5', '3.8']], 'Rodrigo': [['Curso 1', '3.1'], ['Curso 2', '6.7'], ['Curso 3', '3.2'], ['Curso 4', '4.3'], ['Curso 5', '4.9']], 'Amparo': [['Curso 1', '5.8'], ['Curso 2', '4.9'], ['Curso 3', '3.2'], ['Curso 4', '3.2'], ['Curso 5', '4.7']]}"
      ],
      "metadata": {
        "id": "ROHjUOFSCiQy"
      },
      "execution_count": 27,
      "outputs": []
    },
    {
      "cell_type": "markdown",
      "source": [
        "Ingresar datos de forma manual:"
      ],
      "metadata": {
        "id": "eHcQtjYMEGr1"
      }
    },
    {
      "cell_type": "code",
      "execution_count": null,
      "metadata": {
        "id": "EpQJ09sE4-AU"
      },
      "outputs": [],
      "source": [
        "Alumnos = {}\n",
        "loop1 = True\n",
        "while(loop1):\n",
        "  nombre = input(\"Ingrese nombre del alumno: \")\n",
        "  loop2 = True\n",
        "  notas = []\n",
        "  while(loop2):\n",
        "    ramo = input(\"Ingrese el ramo del cual registrara su nota: \")\n",
        "    nota = input(\"Ingrese su nota: \")\n",
        "    notas.append([ramo , nota])\n",
        "    Change2 = input(\"¿Desea registrar otra nota? (y/n): \")\n",
        "    while((Change2 != \"y\") and (Change2 != \"n\")):\n",
        "      print(Change2)\n",
        "      Change2 = input(\"Ingrese una opcion valida: \")\n",
        "    if Change2 == \"n\":\n",
        "      loop2 = False\n",
        "  Alumnos[nombre] = notas\n",
        "  Change1 = input(\"¿Desea registrar otro alumno? (y/n)\")\n",
        "  while((Change1 != \"y\") and (Change1 != \"n\")):\n",
        "    Change1 = input(\"Ingrese una opcion valida: \")\n",
        "  if Change1 == \"n\":\n",
        "    loop1 = False"
      ]
    },
    {
      "cell_type": "code",
      "source": [
        "#Impresion_bruta():\n",
        "print(Alumnos)"
      ],
      "metadata": {
        "colab": {
          "base_uri": "https://localhost:8080/"
        },
        "id": "aLlBW4tNcb4g",
        "outputId": "cfc10ce6-555f-4b42-954d-d435d0821dc0"
      },
      "execution_count": 20,
      "outputs": [
        {
          "output_type": "stream",
          "name": "stdout",
          "text": [
            "{'Jorge': [['Curso 1', '6.0'], ['Curso 2', '5.6'], ['Curso 3', '4.1'], ['Curso 4', '4.7'], ['Curso 5', '6.1']], 'Amalia': [['Curso 1', '1.6'], ['Curso 2', '4.1'], ['Curso 3', '4.6'], ['Curso 4', '5.3'], ['Curso 5', '6.1']], 'Pedro': [['Curso 1', '3.9'], ['Curso 2', '3.8'], ['Curso 3', '4.8'], ['Curso 4', '6.5'], ['Curso 5', '3.8']], 'Rodrigo': [['Curso 1', '3.1'], ['Curso 2', '6.7'], ['Curso 3', '3.2'], ['Curso 4', '4.3'], ['Curso 5', '4.9']], 'Amparo': [['Curso 1', '5.8'], ['Curso 2', '4.9'], ['Curso 3', '3.2'], ['Curso 4', '3.2'], ['Curso 5', '4.7']]}\n"
          ]
        }
      ]
    },
    {
      "cell_type": "code",
      "source": [
        "def impresion_decente():\n",
        "  print(\"Nombre\", \"Notas\")\n",
        "  for i in Alumnos:\n",
        "    save = \"\"\n",
        "    for j in Alumnos[i]:\n",
        "      save = save + str(j[1]) + \" \"\n",
        "    print(i, save)\n",
        "impresion_decente()\n",
        "#\"Decente\""
      ],
      "metadata": {
        "colab": {
          "base_uri": "https://localhost:8080/"
        },
        "id": "J4tPPh5Lc4WE",
        "outputId": "fa0de9f6-328c-4000-dd95-bb0f8a848fce"
      },
      "execution_count": 28,
      "outputs": [
        {
          "output_type": "stream",
          "name": "stdout",
          "text": [
            "Nombre Notas\n",
            "Jorge 6.0 5.6 4.1 4.7 6.1 \n",
            "Amalia 1.6 4.1 4.6 5.3 6.1 \n",
            "Pedro 3.9 3.8 4.8 6.5 3.8 \n",
            "Rodrigo 3.1 6.7 3.2 4.3 4.9 \n",
            "Amparo 5.8 4.9 3.2 3.2 4.7 \n"
          ]
        }
      ]
    },
    {
      "cell_type": "code",
      "source": [
        "def nota_max(Alumno):\n",
        "  max = 0.0\n",
        "  for d in Alumnos[Alumno]:\n",
        "    if float(d[1])>max:\n",
        "      max = float(d[1])\n",
        "  return max\n",
        "print(nota_max(\"Jorge\"))"
      ],
      "metadata": {
        "colab": {
          "base_uri": "https://localhost:8080/"
        },
        "id": "x2OnxAKKf7PJ",
        "outputId": "89a77f32-7683-4857-9d41-0b33d2fbce26"
      },
      "execution_count": 29,
      "outputs": [
        {
          "output_type": "stream",
          "name": "stdout",
          "text": [
            "6.1\n"
          ]
        }
      ]
    },
    {
      "cell_type": "code",
      "source": [
        "def nota_min(Alumno):\n",
        "  min = 7.0\n",
        "  for p in Alumnos[Alumno]:\n",
        "    if float(p[1])<min:\n",
        "      min = float(p[1])\n",
        "  return min"
      ],
      "metadata": {
        "id": "rhAisgfQhcn2"
      },
      "execution_count": 30,
      "outputs": []
    },
    {
      "cell_type": "code",
      "source": [
        "def nota_mean(Alumno):\n",
        "  total_notas = 0\n",
        "  suma_notas = 0\n",
        "  for q in Alumnos[Alumno]:\n",
        "    total_notas+=1\n",
        "    suma_notas= suma_notas + float(q[1])\n",
        "  mean = suma_notas/float(total_notas)\n",
        "  return round(mean, 1)\n",
        "print(nota_mean(\"Jorge\"))"
      ],
      "metadata": {
        "colab": {
          "base_uri": "https://localhost:8080/"
        },
        "id": "RG_fDGURhpAe",
        "outputId": "70ff25ad-240e-42e3-98bc-402913f83143"
      },
      "execution_count": 31,
      "outputs": [
        {
          "output_type": "stream",
          "name": "stdout",
          "text": [
            "5.3\n"
          ]
        }
      ]
    },
    {
      "cell_type": "code",
      "source": [
        "def aprobar(Alumno):\n",
        "  if nota_mean(Alumno) >= 5.0:\n",
        "    return \"Aprobado\"\n",
        "  elif nota_mean (Alumno) < 4.5:\n",
        "    return \"Reprobado\"\n",
        "  else:\n",
        "    return \"Examen\"\n",
        "print(aprobar(\"Jorge\"))"
      ],
      "metadata": {
        "colab": {
          "base_uri": "https://localhost:8080/"
        },
        "id": "kkBMLICcio26",
        "outputId": "bd143ddd-0430-49e5-e9dc-a8bbaf149179"
      },
      "execution_count": 32,
      "outputs": [
        {
          "output_type": "stream",
          "name": "stdout",
          "text": [
            "Aprobado\n"
          ]
        }
      ]
    },
    {
      "cell_type": "code",
      "source": [
        "#Ordenar datos Sin formato tarea\n",
        "from tabulate import tabulate\n",
        "Nombres = list(Alumnos)\n",
        "Tabla = []\n",
        "for h in Nombres:\n",
        "  Student = []\n",
        "  Student.append(h)\n",
        "  Student.append(nota_max(h))\n",
        "  Student.append(nota_min(h))\n",
        "  Student.append(nota_mean(h))\n",
        "  Student.append(aprobar(h))\n",
        "  Tabla.append(Student)\n",
        "\n",
        "print(tabulate(Tabla, headers= [\"Nombre\", \"Max\", \"Min\", \"Promedio\", \"Estado\"]))"
      ],
      "metadata": {
        "colab": {
          "base_uri": "https://localhost:8080/"
        },
        "id": "UUJGPu5Hjg04",
        "outputId": "39710d8e-668c-45d5-9739-821d179a3a7d"
      },
      "execution_count": 33,
      "outputs": [
        {
          "output_type": "stream",
          "name": "stdout",
          "text": [
            "Nombre      Max    Min    Promedio  Estado\n",
            "--------  -----  -----  ----------  ---------\n",
            "Jorge       6.1    4.1         5.3  Aprobado\n",
            "Amalia      6.1    1.6         4.3  Reprobado\n",
            "Pedro       6.5    3.8         4.6  Examen\n",
            "Rodrigo     6.7    3.1         4.4  Reprobado\n",
            "Amparo      5.8    3.2         4.4  Reprobado\n"
          ]
        }
      ]
    },
    {
      "cell_type": "markdown",
      "source": [
        "La diferencia se debe al tipeo de las notas."
      ],
      "metadata": {
        "id": "EKc8E4ffmCaC"
      }
    },
    {
      "cell_type": "code",
      "source": [
        "\n",
        "print (\"{:<8} {:<8} {:<8} {:<10} {:<15}\".format('Nombre','Max','Min', 'Promedio', 'Estado'))\n",
        "k = 0\n",
        "while (k < 50):\n",
        "  print('-',end='')\n",
        "  k+=1\n",
        "print('')\n",
        "\n",
        "for v in Tabla:\n",
        "    Nombre, Max, Min, Promedio, Estado = v\n",
        "    print (\"{:<8} {:<8} {:<8} {:<10} {:<15}\".format(Nombre, Max, Min, Promedio, Estado))"
      ],
      "metadata": {
        "colab": {
          "base_uri": "https://localhost:8080/"
        },
        "id": "kStwot7v_nAW",
        "outputId": "bd560810-d5fc-47d5-d663-171127ea9fe4"
      },
      "execution_count": 34,
      "outputs": [
        {
          "output_type": "stream",
          "name": "stdout",
          "text": [
            "Nombre   Max      Min      Promedio   Estado         \n",
            "--------------------------------------------------\n",
            "Jorge    6.1      4.1      5.3        Aprobado       \n",
            "Amalia   6.1      1.6      4.3        Reprobado      \n",
            "Pedro    6.5      3.8      4.6        Examen         \n",
            "Rodrigo  6.7      3.1      4.4        Reprobado      \n",
            "Amparo   5.8      3.2      4.4        Reprobado      \n"
          ]
        }
      ]
    }
  ]
}